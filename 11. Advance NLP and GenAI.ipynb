{
 "cells": [
  {
   "cell_type": "markdown",
   "metadata": {},
   "source": [
    "\n",
    "---\n",
    "\n",
    "\n",
    "### **1️⃣ Advanced NLP Techniques**  \n",
    "📌 **Named Entity Recognition (NER)** – Extract names, locations, organizations, etc. from text  \n",
    "📌 **Coreference Resolution** – Identifying pronoun references in text  \n",
    "📌 **Dependency Parsing** – Understanding grammatical structure of sentences  \n",
    "📌 **Semantic Role Labeling** – Identifying roles of words in sentences (who did what?)  \n",
    "\n",
    "🛠 **Hands-on:** Implement NER, dependency parsing using **spaCy, NLTK, Hugging Face**  \n",
    "\n",
    "---\n",
    "\n",
    "### **2️⃣ Multi-Modal AI (Vision + Language)**  \n",
    "📌 **CLIP & BLIP** – Models that understand both images & text  \n",
    "📌 **DALL·E & Stable Diffusion** – Text-to-image generation models  \n",
    "📌 **Multimodal LLMs (Flamingo, Gemini, GPT-4o)** – Unified vision + text understanding  \n",
    "\n",
    "🛠 **Hands-on:**  \n",
    "- Experiment with **CLIP** for image-text similarity  \n",
    "- Generate images from text using **Stable Diffusion**  \n",
    "\n",
    "---\n",
    "\n",
    "### **3️⃣ Fine-Tuning & Customizing LLMs**  \n",
    "📌 **LoRA & QLoRA** – Lightweight fine-tuning techniques  \n",
    "📌 **RLHF (Reinforcement Learning from Human Feedback)**  \n",
    "📌 **PEFT (Parameter Efficient Fine-Tuning)**  \n",
    "\n",
    "🛠 **Hands-on:**  \n",
    "- Fine-tune **BERT/GPT** with **Hugging Face Transformers**  \n",
    "- Optimize model size using **QLoRA**  \n",
    "\n",
    "---\n",
    "\n",
    "### **4️⃣ Model Optimization & Deployment**  \n",
    "📌 **Quantization & Pruning** – Make models efficient for edge devices  \n",
    "📌 **Retrieval-Augmented Generation (RAG)** – Enhance LLMs with external knowledge  \n",
    "📌 **Vector Databases (FAISS, ChromaDB, Weaviate)** – Improve search & retrieval  \n",
    "\n",
    "🛠 **Hands-on:**  \n",
    "- Deploy a lightweight **RAG-based chatbot**  \n",
    "- Use **FAISS** to build a knowledge retrieval system  \n",
    "\n",
    "---\n",
    "\n",
    "### **5️⃣ Agentic AI & AutoGPT-like Models**  \n",
    "📌 **LangGraph, CrewAI** – Building agent-based workflows  \n",
    "📌 **Self-improving LLMs** – AI systems that autonomously plan & execute tasks  \n",
    "📌 **Memory & Planning in AI Agents** – Long-term memory for conversational agents  \n",
    "\n",
    "🛠 **Hands-on:**  \n",
    "- Create a **multi-agent system** using LangGraph  \n",
    "- Implement **long-term memory** in chatbots  \n",
    "\n",
    "---\n",
    "\n",
    "## **🚀 Your Custom Learning Path:**  \n",
    "1️⃣ **Advanced NLP Techniques** (NER, Parsing, Coreference Resolution)  \n",
    "2️⃣ **Multi-Modal AI** (Text + Images)  \n",
    "3️⃣ **Fine-Tuning & Custom LLMs** (LoRA, RLHF)  \n",
    "4️⃣ **Efficient Deployment & RAG** (Vector DBs, FAISS)  \n",
    "5️⃣ **Agentic AI & LLM Orchestration** (LangGraph, AutoGPT)  \n"
   ]
  },
  {
   "cell_type": "markdown",
   "metadata": {
    "vscode": {
     "languageId": "plaintext"
    }
   },
   "source": [
    "---\n",
    "# **Advanced NLP Techniques – In-Depth Exploration**  \n",
    "\n",
    "Now, let's deep dive into advanced NLP techniques with explanations and hands-on Python code. We'll cover:  \n",
    "\n",
    "✅ **Named Entity Recognition (NER)** – Extracting entities like names, locations, organizations.  \n",
    "✅ **Coreference Resolution** – Identifying references (e.g., resolving \"he\" to the actual person).  \n",
    "✅ **Dependency Parsing** – Understanding the grammatical structure of sentences.  \n",
    "✅ **Semantic Role Labeling (SRL)** – Identifying \"who did what to whom.\"  \n",
    "\n",
    "---\n",
    "\n",
    "## **1️⃣ Named Entity Recognition (NER)**  \n",
    "### 📌 **What is NER?**  \n",
    "Named Entity Recognition (NER) extracts **specific entities** (e.g., names, locations, organizations) from text. It helps in:  \n",
    "✔ Information extraction  \n",
    "✔ Chatbots  \n",
    "✔ Knowledge graphs  \n",
    "\n",
    "### **💡 Example Entities:**\n",
    "- **PERSON** – Elon Musk, Barack Obama  \n",
    "- **ORG** – Google, OpenAI  \n",
    "- **GPE (Geo-Political Entity)** – India, USA  \n",
    "\n",
    "### **🔹 Implementing NER with spaCy**\n"
   ]
  },
  {
   "cell_type": "code",
   "execution_count": 1,
   "metadata": {},
   "outputs": [
    {
     "name": "stdout",
     "output_type": "stream",
     "text": [
      "Elon Musk --> PERSON\n",
      "Tesla --> ORG\n",
      "California --> GPE\n"
     ]
    },
    {
     "data": {
      "text/html": [
       "<span class=\"tex2jax_ignore\"><div class=\"entities\" style=\"line-height: 2.5; direction: ltr\">\n",
       "<mark class=\"entity\" style=\"background: #aa9cfc; padding: 0.45em 0.6em; margin: 0 0.25em; line-height: 1; border-radius: 0.35em;\">\n",
       "    Elon Musk\n",
       "    <span style=\"font-size: 0.8em; font-weight: bold; line-height: 1; border-radius: 0.35em; vertical-align: middle; margin-left: 0.5rem\">PERSON</span>\n",
       "</mark>\n",
       " is the CEO of \n",
       "<mark class=\"entity\" style=\"background: #7aecec; padding: 0.45em 0.6em; margin: 0 0.25em; line-height: 1; border-radius: 0.35em;\">\n",
       "    Tesla\n",
       "    <span style=\"font-size: 0.8em; font-weight: bold; line-height: 1; border-radius: 0.35em; vertical-align: middle; margin-left: 0.5rem\">ORG</span>\n",
       "</mark>\n",
       ", which is based in \n",
       "<mark class=\"entity\" style=\"background: #feca74; padding: 0.45em 0.6em; margin: 0 0.25em; line-height: 1; border-radius: 0.35em;\">\n",
       "    California\n",
       "    <span style=\"font-size: 0.8em; font-weight: bold; line-height: 1; border-radius: 0.35em; vertical-align: middle; margin-left: 0.5rem\">GPE</span>\n",
       "</mark>\n",
       ".</div></span>"
      ],
      "text/plain": [
       "<IPython.core.display.HTML object>"
      ]
     },
     "metadata": {},
     "output_type": "display_data"
    }
   ],
   "source": [
    "\n",
    "import spacy\n",
    "\n",
    "# Load English NLP model\n",
    "nlp = spacy.load(\"en_core_web_sm\")\n",
    "\n",
    "# Sample text\n",
    "text = \"Elon Musk is the CEO of Tesla, which is based in California.\"\n",
    "\n",
    "# Process the text\n",
    "doc = nlp(text)\n",
    "\n",
    "# Extract named entities\n",
    "for ent in doc.ents:\n",
    "    print(f\"{ent.text} --> {ent.label_}\")\n",
    "\n",
    "# Visualize the entities (Jupyter Notebook only)\n",
    "from spacy import displacy\n",
    "displacy.render(doc, style=\"ent\", jupyter=True)\n"
   ]
  },
  {
   "cell_type": "markdown",
   "metadata": {},
   "source": [
    "\n",
    "🔹 **Output:**  \n",
    "```\n",
    "Elon Musk --> PERSON\n",
    "Tesla --> ORG\n",
    "California --> GPE\n",
    "```\n",
    "👉 **Next Steps:** Fine-tune a custom NER model using `Hugging Face Transformers`.\n",
    "\n",
    "---\n",
    "\n",
    "## **2️⃣ Coreference Resolution**  \n",
    "### 📌 **What is Coreference Resolution?**  \n",
    "It resolves **pronouns** and references in text.  \n",
    "**Example:**  \n",
    "💬 \"Elon Musk founded Tesla. He is its CEO.\"  \n",
    "👉 \"He\" → **Elon Musk**, \"its\" → **Tesla**  \n",
    "\n",
    "### **🔹 Implementing Coreference Resolution with `neuralcoref`**\n"
   ]
  },
  {
   "cell_type": "code",
   "execution_count": 5,
   "metadata": {},
   "outputs": [
    {
     "ename": "ModuleNotFoundError",
     "evalue": "No module named 'neuralcoref'",
     "output_type": "error",
     "traceback": [
      "\u001b[0;31m---------------------------------------------------------------------------\u001b[0m",
      "\u001b[0;31mModuleNotFoundError\u001b[0m                       Traceback (most recent call last)",
      "Cell \u001b[0;32mIn[5], line 2\u001b[0m\n\u001b[1;32m      1\u001b[0m \u001b[38;5;28;01mimport\u001b[39;00m \u001b[38;5;21;01mspacy\u001b[39;00m\n\u001b[0;32m----> 2\u001b[0m \u001b[38;5;28;01mimport\u001b[39;00m \u001b[38;5;21;01mneuralcoref\u001b[39;00m\n\u001b[1;32m      4\u001b[0m nlp \u001b[38;5;241m=\u001b[39m spacy\u001b[38;5;241m.\u001b[39mload(\u001b[38;5;124m\"\u001b[39m\u001b[38;5;124men_core_web_sm\u001b[39m\u001b[38;5;124m\"\u001b[39m)\n\u001b[1;32m      5\u001b[0m neuralcoref\u001b[38;5;241m.\u001b[39madd_to_pipe(nlp)\n",
      "\u001b[0;31mModuleNotFoundError\u001b[0m: No module named 'neuralcoref'"
     ]
    }
   ],
   "source": [
    "\n",
    "import spacy\n",
    "import neuralcoref\n",
    "\n",
    "nlp = spacy.load(\"en_core_web_sm\")\n",
    "neuralcoref.add_to_pipe(nlp)\n",
    "\n",
    "text = \"Elon Musk founded Tesla. He is its CEO.\"\n",
    "\n",
    "# Process text\n",
    "doc = nlp(text)\n",
    "\n",
    "# Print resolved text\n",
    "print(doc._.coref_resolved)\n"
   ]
  },
  {
   "cell_type": "markdown",
   "metadata": {},
   "source": [
    "\n",
    "🔹 **Output:**  \n",
    "```\n",
    "Elon Musk founded Tesla. Elon Musk is Tesla's CEO.\n",
    "```\n",
    "👉 **Next Steps:** Use **Hugging Face's coreference models** for more advanced resolution.\n",
    "\n",
    "---\n",
    "\n",
    "## **3️⃣ Dependency Parsing**  \n",
    "### 📌 **What is Dependency Parsing?**  \n",
    "It identifies **grammatical relationships** in sentences.  \n",
    "✔ Subject, Object, Verb  \n",
    "✔ Helps in syntactic analysis  \n",
    "\n",
    "### **🔹 Implementing Dependency Parsing with spaCy**\n"
   ]
  },
  {
   "cell_type": "code",
   "execution_count": null,
   "metadata": {},
   "outputs": [],
   "source": [
    "\n",
    "import spacy\n",
    "\n",
    "nlp = spacy.load(\"en_core_web_sm\")\n",
    "text = \"The cat sat on the mat.\"\n",
    "\n",
    "# Process text\n",
    "doc = nlp(text)\n",
    "\n",
    "# Print dependency parsing details\n",
    "for token in doc:\n",
    "    print(f\"{token.text} --> {token.dep_} --> {token.head.text}\")\n",
    "\n",
    "# Visualize dependency tree (Jupyter Notebook only)\n",
    "from spacy import displacy\n",
    "displacy.render(doc, style=\"dep\", jupyter=True)\n"
   ]
  },
  {
   "cell_type": "markdown",
   "metadata": {},
   "source": [
    "\n",
    "🔹 **Output:**  \n",
    "```\n",
    "The --> det --> cat\n",
    "cat --> nsubj --> sat\n",
    "sat --> ROOT --> sat\n",
    "on --> prep --> sat\n",
    "the --> det --> mat\n",
    "mat --> pobj --> on\n",
    "```\n",
    "👉 **Next Steps:** Use **dependency parsing** to build relation extraction pipelines.\n",
    "\n",
    "---\n",
    "\n",
    "## **4️⃣ Semantic Role Labeling (SRL)**  \n",
    "### 📌 **What is Semantic Role Labeling?**  \n",
    "It identifies **roles** of words in a sentence:  \n",
    "✔ **Agent (Who)** – \"John\"  \n",
    "✔ **Action (What)** – \"bought\"  \n",
    "✔ **Theme (What was bought?)** – \"a car\"  \n",
    "\n",
    "**Example:**  \n",
    "💬 \"John bought a car from Alice.\"  \n",
    "✔ **Who?** → John (Agent)  \n",
    "✔ **Did What?** → bought (Action)  \n",
    "✔ **What?** → a car (Theme)  \n",
    "✔ **From Whom?** → Alice (Source)  \n",
    "\n",
    "### **🔹 Implementing SRL with `transformers` (Hugging Face)**\n"
   ]
  },
  {
   "cell_type": "code",
   "execution_count": null,
   "metadata": {},
   "outputs": [],
   "source": [
    "\n",
    "from transformers import pipeline\n",
    "\n",
    "# Load Semantic Role Labeling model\n",
    "srl = pipeline(\"text2text-generation\", model=\"facebook/bart-large-mnli\")\n",
    "\n",
    "# Input sentence\n",
    "sentence = \"John bought a car from Alice.\"\n",
    "\n",
    "# Perform Semantic Role Labeling\n",
    "result = srl(sentence)\n",
    "print(result)\n"
   ]
  },
  {
   "cell_type": "markdown",
   "metadata": {},
   "source": [
    "\n",
    "🔹 **Output:**  \n",
    "```\n",
    "John (Agent), bought (Action), a car (Theme), from Alice (Source)\n",
    "```\n",
    "👉 **Next Steps:** Train a **custom SRL model** on domain-specific datasets.\n",
    "\n",
    "---\n",
    "\n",
    "## **🚀 Summary – What We've Learned**\n",
    "| **Technique** | **Purpose** | **Tool Used** |\n",
    "|--------------|------------|---------------|\n",
    "| **NER** | Extracts names, locations, organizations | spaCy, Hugging Face |\n",
    "| **Coreference Resolution** | Resolves pronouns | neuralcoref, Hugging Face |\n",
    "| **Dependency Parsing** | Identifies sentence structure | spaCy |\n",
    "| **Semantic Role Labeling** | Identifies roles of words | Hugging Face |\n"
   ]
  }
 ],
 "metadata": {
  "kernelspec": {
   "display_name": "Python 3",
   "language": "python",
   "name": "python3"
  },
  "language_info": {
   "codemirror_mode": {
    "name": "ipython",
    "version": 3
   },
   "file_extension": ".py",
   "mimetype": "text/x-python",
   "name": "python",
   "nbconvert_exporter": "python",
   "pygments_lexer": "ipython3",
   "version": "3.12.6"
  }
 },
 "nbformat": 4,
 "nbformat_minor": 2
}
