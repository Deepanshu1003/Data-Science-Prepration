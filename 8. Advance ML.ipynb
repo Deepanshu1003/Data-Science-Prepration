{
 "cells": [
  {
   "cell_type": "markdown",
   "metadata": {},
   "source": [
    "### **🚀 Advanced ML & Model Optimization: Topics & Subtopics**  \n",
    "\n",
    "Now that we have covered **Supervised & Unsupervised Learning, Feature Engineering, and Model Evaluation**, let’s explore **Advanced ML & Model Optimization**.  \n",
    "\n",
    "---\n",
    "\n",
    "### **📌 Topics & Subtopics to Cover:**  \n",
    "\n",
    "#### **1️⃣ Ensemble Methods (Improving Model Performance)**\n",
    "✅ **Bagging (Bootstrap Aggregating)**\n",
    "   - Random Forest (Ensemble of Decision Trees)  \n",
    "   - Extra Trees (More randomness than Random Forest)  \n",
    "\n",
    "✅ **Boosting (Sequential Learning to Reduce Bias)**\n",
    "   - AdaBoost (Adaptive Boosting)  \n",
    "   - Gradient Boosting (GBM)  \n",
    "   - XGBoost (Extreme Gradient Boosting)  \n",
    "   - LightGBM (Lightweight GBM for speed)  \n",
    "   - CatBoost (Boosting for categorical data)  \n",
    "\n",
    "---\n",
    "\n",
    "#### **2️⃣ Hyperparameter Tuning (Optimizing Model Performance)**\n",
    "✅ **Exhaustive Search Methods**  \n",
    "   - GridSearchCV (Finds best parameters by checking all combinations)  \n",
    "\n",
    "✅ **Efficient Search Methods**  \n",
    "   - RandomizedSearchCV (Selects random parameter combinations)  \n",
    "   - Bayesian Optimization (Uses probability to find the best parameters)  \n",
    "   - Optuna & HyperOpt (Advanced optimization libraries)  \n",
    "\n",
    "✅ **Automated Hyperparameter Tuning**  \n",
    "   - AutoML (H2O, TPOT)  \n",
    "\n",
    "---\n"
   ]
  },
  {
   "cell_type": "markdown",
   "metadata": {},
   "source": [
    "## **📌 Ensemble Methods: Detailed Explanation with Python Snippets**  \n",
    "\n",
    "Ensemble learning combines multiple models to improve accuracy and robustness. It helps reduce overfitting, improve generalization, and make predictions more reliable.  \n",
    "\n",
    "---\n",
    "\n",
    "## **1️⃣ Bagging (Bootstrap Aggregating)**\n",
    "Bagging reduces variance by training multiple models independently on different subsets of data and then averaging their predictions (for regression) or taking a majority vote (for classification).\n",
    "\n",
    "### 📍 How Bagging Works?\n",
    "- Create multiple bootstrap samples (random subsets of the dataset with replacement).\n",
    "- Train a separate model on each bootstrap sample.\n",
    "- Aggregate the predictions from all models (averaging for regression, majority voting for classification).\n",
    "\n",
    "### 📍 Advantages of Bagging\n",
    "✅ Reduces variance and prevents overfitting.\n",
    "✅ Works well for high-variance models (e.g., Decision Trees).\n",
    "✅ Can handle missing data and outliers.\n",
    "\n",
    "\n",
    "### **🔹 Random Forest (Most Popular Bagging Algorithm)**\n",
    "- An ensemble of multiple Decision Trees.  \n",
    "- Each tree is trained on a random subset of data.  \n",
    "- Final prediction is based on majority voting (classification) or averaging (regression).  \n",
    "\n",
    "#### **Advantages:**\n",
    "✅ Reduces overfitting (compared to a single Decision Tree).  \n",
    "✅ Works well with high-dimensional data.  \n",
    "✅ Can handle missing values and outliers.  \n",
    "\n",
    "### **📝 Code: Random Forest Classifier**\n"
   ]
  },
  {
   "cell_type": "code",
   "execution_count": null,
   "metadata": {},
   "outputs": [],
   "source": [
    "\n",
    "from sklearn.ensemble import RandomForestClassifier\n",
    "from sklearn.datasets import load_iris\n",
    "from sklearn.model_selection import train_test_split\n",
    "from sklearn.metrics import accuracy_score\n",
    "\n",
    "# Load dataset\n",
    "iris = load_iris()\n",
    "X_train, X_test, y_train, y_test = train_test_split(iris.data, iris.target, test_size=0.2, random_state=42)\n",
    "\n",
    "# Train Random Forest\n",
    "rf_model = RandomForestClassifier(n_estimators=100, random_state=42)\n",
    "rf_model.fit(X_train, y_train)\n",
    "\n",
    "# Predict & Evaluate\n",
    "y_pred = rf_model.predict(X_test)\n",
    "print(f\"Random Forest Accuracy: {accuracy_score(y_test, y_pred):.2f}\")\n"
   ]
  },
  {
   "cell_type": "markdown",
   "metadata": {},
   "source": [
    "\n",
    "\n",
    "---\n",
    "\n",
    "## **2️⃣ Boosting (Sequential Learning)**\n",
    "Boosting reduces bias by training weak models sequentially, where each model focuses on the mistakes of the previous one.  \n",
    "Unlike Bagging, Boosting builds models sequentially, where each model tries to correct the mistakes of the previous one.\n",
    "\n",
    "### 📍 How Boosting Works?\n",
    "- Train a weak model (e.g., Decision Tree).\n",
    "- Identify misclassified points and assign them higher weights.\n",
    "- Train the next model with higher focus on misclassified points.\n",
    "- Repeat for multiple iterations and combine the models’ outputs.\n",
    "\n",
    "### 📍 Advantages of Boosting\n",
    "✅ Reduces bias and improves accuracy.\n",
    "✅ Works well with weak learners.\n",
    "✅ More robust to noise compared to Bagging.\n",
    "\n",
    "### **🔹 AdaBoost (Adaptive Boosting)**\n",
    "- Assigns more weight to misclassified instances to improve learning.  \n",
    "- Combines multiple weak classifiers (often Decision Trees).  \n",
    "\n",
    "#### **📝 Code: AdaBoost Classifier**\n"
   ]
  },
  {
   "cell_type": "code",
   "execution_count": null,
   "metadata": {},
   "outputs": [],
   "source": [
    "\n",
    "from sklearn.ensemble import AdaBoostClassifier\n",
    "from sklearn.tree import DecisionTreeClassifier\n",
    "\n",
    "# Train AdaBoost\n",
    "adaboost_model = AdaBoostClassifier(base_estimator=DecisionTreeClassifier(max_depth=1), n_estimators=50, random_state=42)\n",
    "adaboost_model.fit(X_train, y_train)\n",
    "\n",
    "# Predict & Evaluate\n",
    "y_pred = adaboost_model.predict(X_test)\n",
    "print(f\"AdaBoost Accuracy: {accuracy_score(y_test, y_pred):.2f}\")\n"
   ]
  },
  {
   "cell_type": "markdown",
   "metadata": {},
   "source": [
    "\n",
    "\n",
    "---\n",
    "\n",
    "### **🔹 Gradient Boosting (GBM)**\n",
    "- Unlike AdaBoost, GBM minimizes errors by optimizing a loss function (e.g., log loss, RMSE).  \n",
    "- Works well for structured/tabular data.  \n",
    "\n",
    "#### **📝 Code: Gradient Boosting Classifier**\n"
   ]
  },
  {
   "cell_type": "code",
   "execution_count": null,
   "metadata": {},
   "outputs": [],
   "source": [
    "\n",
    "from sklearn.ensemble import GradientBoostingClassifier\n",
    "\n",
    "# Train GBM\n",
    "gbm_model = GradientBoostingClassifier(n_estimators=100, learning_rate=0.1, random_state=42)\n",
    "gbm_model.fit(X_train, y_train)\n",
    "\n",
    "# Predict & Evaluate\n",
    "y_pred = gbm_model.predict(X_test)\n",
    "print(f\"Gradient Boosting Accuracy: {accuracy_score(y_test, y_pred):.2f}\")\n"
   ]
  },
  {
   "cell_type": "markdown",
   "metadata": {},
   "source": [
    "\n",
    "\n",
    "---\n",
    "\n",
    "### **🔹 XGBoost (Extreme Gradient Boosting)**\n",
    "- Faster and more efficient than traditional GBM.  \n",
    "- Supports parallel processing and regularization.  \n",
    "\n",
    "#### **📝 Code: XGBoost Classifier**\n"
   ]
  },
  {
   "cell_type": "code",
   "execution_count": null,
   "metadata": {},
   "outputs": [],
   "source": [
    "\n",
    "from xgboost import XGBClassifier\n",
    "\n",
    "# Train XGBoost\n",
    "xgb_model = XGBClassifier(n_estimators=100, learning_rate=0.1, random_state=42)\n",
    "xgb_model.fit(X_train, y_train)\n",
    "\n",
    "# Predict & Evaluate\n",
    "y_pred = xgb_model.predict(X_test)\n",
    "print(f\"XGBoost Accuracy: {accuracy_score(y_test, y_pred):.2f}\")\n"
   ]
  },
  {
   "cell_type": "markdown",
   "metadata": {},
   "source": [
    "\n",
    "\n",
    "---\n",
    "\n",
    "### **🔹 LightGBM (Light Gradient Boosting Machine)**\n",
    "- Faster than XGBoost, especially for large datasets.  \n",
    "- Uses histogram-based learning for efficiency.  \n",
    "\n",
    "#### **📝 Code: LightGBM Classifier**\n"
   ]
  },
  {
   "cell_type": "code",
   "execution_count": null,
   "metadata": {},
   "outputs": [],
   "source": [
    "\n",
    "import lightgbm as lgb\n",
    "\n",
    "# Train LightGBM\n",
    "lgb_model = lgb.LGBMClassifier(n_estimators=100, learning_rate=0.1, random_state=42)\n",
    "lgb_model.fit(X_train, y_train)\n",
    "\n",
    "# Predict & Evaluate\n",
    "y_pred = lgb_model.predict(X_test)\n",
    "print(f\"LightGBM Accuracy: {accuracy_score(y_test, y_pred):.2f}\")\n"
   ]
  },
  {
   "cell_type": "markdown",
   "metadata": {},
   "source": [
    "\n",
    "\n",
    "---\n",
    "\n",
    "## **📊 Comparing Ensemble Methods**\n",
    "Now, let’s compare the performance of these models using a single dataset:\n",
    "\n",
    "| **Model**          | **Type**  | **Handles Overfitting?** | **Training Speed** | **Best for Large Data?** |\n",
    "|--------------------|----------|-----------------|----------------|--------------------|\n",
    "| Random Forest     | Bagging  | ✅ Yes           | ⚡ Medium       | ❌ No             |\n",
    "| AdaBoost         | Boosting | ✅ Yes           | ⏳ Slow         | ❌ No             |\n",
    "| Gradient Boosting | Boosting | ✅ Yes           | ⏳ Slow         | ❌ No             |\n",
    "| XGBoost          | Boosting | ✅ Yes           | ⚡ Fast        | ✅ Yes            |\n",
    "| LightGBM         | Boosting | ✅ Yes           | 🚀 Very Fast   | ✅ Yes            |\n",
    "\n",
    "---\n",
    "\n",
    "## **🔹 Key Takeaways**\n",
    "- **Bagging (Random Forest)** reduces overfitting and is easy to use.  \n",
    "- **Boosting (AdaBoost, GBM, XGBoost, LightGBM)** improves accuracy but is more prone to overfitting.  \n",
    "- **XGBoost & LightGBM** are best for large datasets due to their speed and efficiency.  \n",
    "\n",
    "---\n"
   ]
  },
  {
   "cell_type": "markdown",
   "metadata": {},
   "source": [
    "# **📌 Hyperparameter Tuning – A Detailed Guide**\n",
    "\n",
    "Hyperparameter tuning is the process of finding the best set of parameters for a machine learning model to maximize its performance. Unlike model parameters (which are learned during training), **hyperparameters** are set before training and control how the learning process occurs.\n",
    "\n",
    "---\n",
    "\n",
    "## **📍 Why is Hyperparameter Tuning Important?**\n",
    "✅ Improves model accuracy and generalization.  \n",
    "✅ Prevents overfitting and underfitting.  \n",
    "✅ Optimizes model training efficiency.  \n",
    "\n",
    "---\n",
    "\n",
    "# **🔹 Types of Hyperparameter Tuning Methods**\n",
    "\n",
    "## **1️⃣ Manual Search (Trial and Error)**\n",
    "- Choose hyperparameters manually and evaluate the model.\n",
    "- **Issues:** Time-consuming, inefficient for complex models.\n",
    "\n",
    "---\n",
    "\n",
    "## **2️⃣ Grid Search (Exhaustive Search)**\n",
    "Grid Search tries every possible combination of hyperparameters in a predefined set and selects the best one.\n",
    "\n",
    "### **📍 Steps:**\n",
    "1. Define a range of hyperparameters.\n",
    "2. Train models using all possible combinations.\n",
    "3. Select the combination that gives the best performance.\n",
    "\n",
    "### **📝 Code Snippet: GridSearchCV (Random Forest)**\n"
   ]
  },
  {
   "cell_type": "code",
   "execution_count": null,
   "metadata": {},
   "outputs": [],
   "source": [
    "from sklearn.model_selection import GridSearchCV\n",
    "from sklearn.ensemble import RandomForestClassifier\n",
    "\n",
    "# Define hyperparameters grid\n",
    "param_grid = {\n",
    "    'n_estimators': [50, 100, 150],\n",
    "    'max_depth': [5, 10, 15],\n",
    "    'min_samples_split': [2, 5, 10]\n",
    "}\n",
    "\n",
    "# Perform Grid Search\n",
    "grid_search = GridSearchCV(RandomForestClassifier(), param_grid, cv=5, scoring='accuracy', n_jobs=-1)\n",
    "grid_search.fit(X_train, y_train)\n",
    "\n",
    "# Best parameters\n",
    "print(f\"Best Parameters: {grid_search.best_params_}\")\n",
    "print(f\"Best Accuracy: {grid_search.best_score_:.2f}\")\n"
   ]
  },
  {
   "cell_type": "markdown",
   "metadata": {},
   "source": [
    "\n",
    "**📌 Pros:**  \n",
    "✅ Ensures the best hyperparameters from the provided set.  \n",
    "**📌 Cons:**  \n",
    "❌ Computationally expensive for large datasets.  \n",
    "\n",
    "---\n",
    "\n",
    "## **3️⃣ Random Search (Faster than Grid Search)**\n",
    "Random Search selects random hyperparameter combinations rather than trying all possible values.\n",
    "\n",
    "### **📝 Code Snippet: RandomizedSearchCV**\n"
   ]
  },
  {
   "cell_type": "code",
   "execution_count": null,
   "metadata": {},
   "outputs": [],
   "source": [
    "from sklearn.model_selection import RandomizedSearchCV\n",
    "import numpy as np\n",
    "\n",
    "# Define hyperparameter distribution\n",
    "param_dist = {\n",
    "    'n_estimators': np.arange(50, 200, 10),\n",
    "    'max_depth': np.arange(5, 20, 2),\n",
    "    'min_samples_split': [2, 5, 10]\n",
    "}\n",
    "\n",
    "# Perform Randomized Search\n",
    "random_search = RandomizedSearchCV(RandomForestClassifier(), param_distributions=param_dist, n_iter=10, cv=5, scoring='accuracy', random_state=42, n_jobs=-1)\n",
    "random_search.fit(X_train, y_train)\n",
    "\n",
    "# Best parameters\n",
    "print(f\"Best Parameters: {random_search.best_params_}\")\n",
    "print(f\"Best Accuracy: {random_search.best_score_:.2f}\")\n"
   ]
  },
  {
   "cell_type": "markdown",
   "metadata": {},
   "source": [
    "\n",
    "\n",
    "**📌 Pros:**  \n",
    "✅ Faster than Grid Search.  \n",
    "✅ Suitable for large hyperparameter spaces.  \n",
    "**📌 Cons:**  \n",
    "❌ Might not find the absolute best combination.  \n",
    "\n",
    "---\n",
    "\n",
    "## **4️⃣ Bayesian Optimization (Smart Search)**\n",
    "Instead of randomly searching, Bayesian Optimization models the search space and predicts the best hyperparameters iteratively.\n",
    "\n",
    "### **📍 Steps:**\n",
    "1. Define a function that maps hyperparameters to a performance score.\n",
    "2. Use a probabilistic model (Gaussian Process) to estimate which hyperparameter values to explore next.\n",
    "3. Repeat until convergence.\n",
    "\n",
    "### **📝 Code Snippet: Bayesian Optimization with `optuna`**\n"
   ]
  },
  {
   "cell_type": "code",
   "execution_count": null,
   "metadata": {},
   "outputs": [],
   "source": [
    "\n",
    "import optuna\n",
    "from sklearn.ensemble import RandomForestClassifier\n",
    "from sklearn.model_selection import cross_val_score\n",
    "\n",
    "# Define objective function\n",
    "def objective(trial):\n",
    "    n_estimators = trial.suggest_int('n_estimators', 50, 200)\n",
    "    max_depth = trial.suggest_int('max_depth', 5, 20)\n",
    "    min_samples_split = trial.suggest_int('min_samples_split', 2, 10)\n",
    "    \n",
    "    model = RandomForestClassifier(n_estimators=n_estimators, max_depth=max_depth, min_samples_split=min_samples_split)\n",
    "    score = cross_val_score(model, X_train, y_train, cv=5, scoring='accuracy').mean()\n",
    "    \n",
    "    return score\n",
    "\n",
    "# Run optimization\n",
    "study = optuna.create_study(direction='maximize')\n",
    "study.optimize(objective, n_trials=20)\n",
    "\n",
    "# Best parameters\n",
    "print(f\"Best Parameters: {study.best_params}\")\n",
    "print(f\"Best Accuracy: {study.best_value:.2f}\")\n"
   ]
  },
  {
   "cell_type": "markdown",
   "metadata": {},
   "source": [
    "\n",
    "\n",
    "**📌 Pros:**  \n",
    "✅ More efficient than Grid/Random Search.  \n",
    "✅ Finds optimal hyperparameters faster.  \n",
    "**📌 Cons:**  \n",
    "❌ More complex implementation.  \n",
    "\n",
    "---\n",
    "\n",
    "# **🔹 Comparing Hyperparameter Tuning Methods**\n",
    "\n",
    "| **Method**            | **Exploration Strategy** | **Time Efficiency** | **Best Use Case** |\n",
    "|----------------------|----------------------|-----------------|----------------|\n",
    "| **Manual Search**     | Trial & Error        | ❌ Slow         | Simple Models |\n",
    "| **Grid Search**       | Exhaustive Search   | ❌ Slow         | Small Hyperparameter Space |\n",
    "| **Random Search**     | Random Sampling     | ✅ Faster       | Large Hyperparameter Space |\n",
    "| **Bayesian Optimization** | Smart Search      | 🚀 Fastest      | Complex Models |\n",
    "\n",
    "---\n",
    "\n",
    "## **📌 Key Takeaways**\n",
    "✅ **Grid Search** is best when you have a small set of hyperparameters.  \n",
    "✅ **Random Search** is better for large hyperparameter spaces.  \n",
    "✅ **Bayesian Optimization** is the most efficient for finding the best hyperparameters quickly.  \n",
    "\n",
    "---\n"
   ]
  },
  {
   "cell_type": "markdown",
   "metadata": {},
   "source": [
    "# **📌 Exploring More Hyperparameter Tuning Methods**  \n",
    "\n",
    "Beyond **Grid Search, Random Search, and Bayesian Optimization**, there are **several advanced techniques** for hyperparameter tuning that improve search efficiency and model performance.  \n",
    "\n",
    "---\n",
    "\n",
    "# **🔹 Hyperparameter Tuning Methods**\n",
    "\n",
    "## **1️⃣ Genetic Algorithms (Evolutionary Search)**\n",
    "Genetic Algorithms (GA) mimic the process of natural selection to optimize hyperparameters.\n",
    "\n",
    "### **📍 How It Works:**\n",
    "1. **Initialization:** Randomly generate a population of hyperparameter sets.\n",
    "2. **Selection:** Choose the best-performing hyperparameter sets based on model performance.\n",
    "3. **Crossover:** Combine two good hyperparameter sets to create a new one.\n",
    "4. **Mutation:** Randomly tweak some hyperparameters for diversity.\n",
    "5. **Repeat:** Continue evolving until the best hyperparameters are found.\n",
    "\n",
    "### **📝 Code Snippet: Hyperparameter Tuning using `DEAP` (Genetic Algorithm)**\n"
   ]
  },
  {
   "cell_type": "code",
   "execution_count": null,
   "metadata": {},
   "outputs": [],
   "source": [
    "\n",
    "import random\n",
    "from deap import base, creator, tools, algorithms\n",
    "from sklearn.model_selection import cross_val_score\n",
    "from sklearn.ensemble import RandomForestClassifier\n",
    "import numpy as np\n",
    "\n",
    "# Define evaluation function\n",
    "def evaluate(individual):\n",
    "    n_estimators, max_depth, min_samples_split = individual\n",
    "    model = RandomForestClassifier(n_estimators=n_estimators, max_depth=max_depth, min_samples_split=min_samples_split)\n",
    "    return cross_val_score(model, X_train, y_train, cv=5, scoring='accuracy').mean(),\n",
    "\n",
    "# GA parameters\n",
    "creator.create(\"FitnessMax\", base.Fitness, weights=(1.0,))\n",
    "creator.create(\"Individual\", list, fitness=creator.FitnessMax)\n",
    "\n",
    "toolbox = base.Toolbox()\n",
    "toolbox.register(\"attr_int\", random.randint, 50, 200)  # n_estimators\n",
    "toolbox.register(\"attr_int2\", random.randint, 5, 20)   # max_depth\n",
    "toolbox.register(\"attr_int3\", random.randint, 2, 10)   # min_samples_split\n",
    "toolbox.register(\"individual\", tools.initCycle, creator.Individual, (toolbox.attr_int, toolbox.attr_int2, toolbox.attr_int3), n=1)\n",
    "toolbox.register(\"population\", tools.initRepeat, list, toolbox.individual)\n",
    "\n",
    "toolbox.register(\"evaluate\", evaluate)\n",
    "toolbox.register(\"mate\", tools.cxTwoPoint)\n",
    "toolbox.register(\"mutate\", tools.mutUniformInt, low=1, up=200, indpb=0.2)\n",
    "toolbox.register(\"select\", tools.selBest)\n",
    "\n",
    "# Run Genetic Algorithm\n",
    "pop = toolbox.population(n=20)\n",
    "algorithms.eaSimple(pop, toolbox, cxpb=0.5, mutpb=0.2, ngen=10, verbose=True)\n",
    "\n",
    "# Best hyperparameters\n",
    "best_params = tools.selBest(pop, k=1)[0]\n",
    "print(f\"Best Hyperparameters: {best_params}\")\n"
   ]
  },
  {
   "cell_type": "markdown",
   "metadata": {},
   "source": [
    "\n",
    "\n",
    "**📌 Pros:**  \n",
    "✅ Efficient for large hyperparameter spaces.  \n",
    "✅ Avoids local minima by exploring different regions.  \n",
    "**📌 Cons:**  \n",
    "❌ Computationally expensive.  \n",
    "❌ Requires careful tuning of GA parameters.  \n",
    "\n",
    "---\n",
    "\n",
    "## **2️⃣ Simulated Annealing (SA)**\n",
    "Simulated Annealing is a probabilistic technique that mimics metal cooling processes. It explores new hyperparameters randomly, sometimes accepting worse values to escape local optima.\n",
    "\n",
    "### **📍 How It Works:**\n",
    "1. Start with an initial hyperparameter set.\n",
    "2. Make small random changes.\n",
    "3. Accept worse hyperparameters with some probability (to escape local minima).\n",
    "4. Gradually reduce the acceptance probability over time.\n",
    "\n",
    "### **📝 Code Snippet: Hyperparameter Tuning using `scipy.optimize` (Simulated Annealing)**\n"
   ]
  },
  {
   "cell_type": "code",
   "execution_count": null,
   "metadata": {},
   "outputs": [],
   "source": [
    "\n",
    "from scipy.optimize import dual_annealing\n",
    "from sklearn.model_selection import cross_val_score\n",
    "\n",
    "# Define objective function\n",
    "def objective(params):\n",
    "    n_estimators, max_depth, min_samples_split = int(params[0]), int(params[1]), int(params[2])\n",
    "    model = RandomForestClassifier(n_estimators=n_estimators, max_depth=max_depth, min_samples_split=min_samples_split)\n",
    "    return -cross_val_score(model, X_train, y_train, cv=5, scoring='accuracy').mean()\n",
    "\n",
    "# Define bounds\n",
    "bounds = [(50, 200), (5, 20), (2, 10)]\n",
    "\n",
    "# Perform simulated annealing\n",
    "result = dual_annealing(objective, bounds)\n",
    "best_params = result.x\n",
    "print(f\"Best Parameters: {best_params}\")\n"
   ]
  },
  {
   "cell_type": "markdown",
   "metadata": {},
   "source": [
    "\n",
    "\n",
    "**📌 Pros:**  \n",
    "✅ Can escape local minima.  \n",
    "✅ Works well for complex hyperparameter spaces.  \n",
    "**📌 Cons:**  \n",
    "❌ Needs careful cooling schedule tuning.  \n",
    "❌ Can be slow if not properly configured.  \n",
    "\n",
    "---\n",
    "\n",
    "## **3️⃣ Hyperband (Successive Halving)**\n",
    "Hyperband is an **efficient early-stopping method** that quickly eliminates bad hyperparameter configurations.\n",
    "\n",
    "### **📍 How It Works:**\n",
    "1. Train many configurations for a short time.\n",
    "2. Discard the worst-performing ones.\n",
    "3. Train the remaining models longer.\n",
    "4. Continue until only the best model remains.\n",
    "\n",
    "### **📝 Code Snippet: Hyperparameter Tuning using `hyperopt` (Hyperband)**\n"
   ]
  },
  {
   "cell_type": "code",
   "execution_count": null,
   "metadata": {},
   "outputs": [],
   "source": [
    "\n",
    "from hyperopt import fmin, tpe, hp, Trials\n",
    "from sklearn.model_selection import cross_val_score\n",
    "\n",
    "# Define search space\n",
    "search_space = {\n",
    "    'n_estimators': hp.quniform('n_estimators', 50, 200, 10),\n",
    "    'max_depth': hp.quniform('max_depth', 5, 20, 1),\n",
    "    'min_samples_split': hp.uniform('min_samples_split', 2, 10)\n",
    "}\n",
    "\n",
    "# Define objective function\n",
    "def objective(params):\n",
    "    model = RandomForestClassifier(n_estimators=int(params['n_estimators']), \n",
    "                                   max_depth=int(params['max_depth']), \n",
    "                                   min_samples_split=int(params['min_samples_split']))\n",
    "    score = cross_val_score(model, X_train, y_train, cv=5, scoring='accuracy').mean()\n",
    "    return -score  # Minimize negative accuracy\n",
    "\n",
    "# Run Hyperband optimization\n",
    "trials = Trials()\n",
    "best = fmin(fn=objective, space=search_space, algo=tpe.suggest, max_evals=20, trials=trials)\n",
    "print(f\"Best Hyperparameters: {best}\")\n"
   ]
  },
  {
   "cell_type": "markdown",
   "metadata": {},
   "source": [
    "\n",
    "\n",
    "**📌 Pros:**  \n",
    "✅ Faster than Grid/Random Search.  \n",
    "✅ Efficient for deep learning models.  \n",
    "**📌 Cons:**  \n",
    "❌ Not optimal for small datasets.  \n",
    "\n",
    "---\n",
    "\n",
    "## **4️⃣ Population-Based Training (PBT)**\n",
    "Population-Based Training (PBT) adjusts hyperparameters **dynamically during training** rather than fixing them beforehand.\n",
    "\n",
    "### **📍 How It Works:**\n",
    "1. Start with multiple models using different hyperparameters.\n",
    "2. Train each model for a short period.\n",
    "3. Replace poorly performing models with better ones.\n",
    "4. Continue evolving until the best hyperparameters emerge.\n",
    "\n",
    "### **📝 Code Snippet: Hyperparameter Tuning using `ray.tune` (PBT)**\n"
   ]
  },
  {
   "cell_type": "code",
   "execution_count": null,
   "metadata": {},
   "outputs": [],
   "source": [
    "\n",
    "from ray import tune\n",
    "from sklearn.ensemble import RandomForestClassifier\n",
    "\n",
    "# Define search space\n",
    "param_space = {\n",
    "    \"n_estimators\": tune.randint(50, 200),\n",
    "    \"max_depth\": tune.randint(5, 20),\n",
    "    \"min_samples_split\": tune.randint(2, 10)\n",
    "}\n",
    "\n",
    "# Run PBT\n",
    "analysis = tune.run(\n",
    "    RandomForestClassifier,\n",
    "    config=param_space,\n",
    "    num_samples=10,\n",
    "    metric=\"accuracy\",\n",
    "    mode=\"max\"\n",
    ")\n",
    "\n",
    "# Get best parameters\n",
    "print(\"Best Hyperparameters:\", analysis.best_config)\n"
   ]
  },
  {
   "cell_type": "markdown",
   "metadata": {},
   "source": [
    "\n",
    "\n",
    "**📌 Pros:**  \n",
    "✅ Adapts hyperparameters dynamically during training.  \n",
    "✅ Useful for deep learning models.  \n",
    "**📌 Cons:**  \n",
    "❌ Computationally expensive.  \n",
    "\n",
    "---\n",
    "\n",
    "# **🔹 Comparison of Hyperparameter Tuning Methods**\n",
    "\n",
    "| **Method**               | **Strategy**               | **Best Use Case**                  | **Computational Cost** |\n",
    "|--------------------------|--------------------------|------------------------------------|------------------------|\n",
    "| **Grid Search**          | Exhaustive Search        | Small Hyperparameter Spaces       | ❌ High |\n",
    "| **Random Search**        | Random Sampling         | Large Search Spaces               | ✅ Moderate |\n",
    "| **Bayesian Optimization**| Smart Probabilistic Search | Complex Models                   | 🚀 Fast |\n",
    "| **Genetic Algorithms**   | Evolutionary Search      | Large Search Spaces               | ❌ High |\n",
    "| **Simulated Annealing**  | Probabilistic Search     | Escaping Local Minima             | ✅ Moderate |\n",
    "| **Hyperband**            | Early Stopping           | Large-Scale Deep Learning Models  | 🚀 Fast |\n",
    "| **Population-Based**     | Adaptive Training       | Dynamic Hyperparameter Tuning     | ❌ High |\n",
    "\n",
    "---\n",
    "\n",
    "# **📌 Key Takeaways**\n",
    "✅ Grid and Random Search are **basic but inefficient** for large models.  \n",
    "✅ Bayesian Optimization is **efficient** and commonly used.  \n",
    "✅ Genetic Algorithms and Simulated Annealing **explore more intelligently**.  \n",
    "✅ Hyperband and Population-Based Training are **great for deep learning**.  \n",
    "\n",
    "---\n"
   ]
  },
  {
   "cell_type": "markdown",
   "metadata": {},
   "source": [
    "Let's implement **Hyperparameter Tuning on a real-world dataset** using different tuning techniques. We'll use the **Breast Cancer dataset** from `sklearn` and optimize a **Random Forest Classifier**.  \n",
    "\n",
    "---\n",
    "\n",
    "## **📌 Step 1: Load the Dataset & Preprocessing**\n",
    "We will use the **Breast Cancer Wisconsin dataset**, which is a **binary classification** problem (malignant vs. benign tumors).  \n",
    "\n"
   ]
  },
  {
   "cell_type": "code",
   "execution_count": 1,
   "metadata": {},
   "outputs": [],
   "source": [
    "\n",
    "from sklearn.datasets import load_breast_cancer\n",
    "from sklearn.model_selection import train_test_split\n",
    "from sklearn.ensemble import RandomForestClassifier\n",
    "from sklearn.preprocessing import StandardScaler\n",
    "import numpy as np\n",
    "\n",
    "# Load dataset\n",
    "data = load_breast_cancer()\n",
    "X, y = data.data, data.target\n",
    "\n",
    "# Train-test split\n",
    "X_train, X_test, y_train, y_test = train_test_split(X, y, test_size=0.2, random_state=42, stratify=y)\n",
    "\n",
    "# Standardize features\n",
    "scaler = StandardScaler()\n",
    "X_train = scaler.fit_transform(X_train)\n",
    "X_test = scaler.transform(X_test)\n"
   ]
  },
  {
   "cell_type": "markdown",
   "metadata": {},
   "source": [
    "\n",
    "\n",
    "---\n",
    "\n",
    "## **📌 Step 2: Hyperparameter Tuning Techniques**\n",
    "We'll implement different hyperparameter tuning methods:\n",
    "\n",
    "1️⃣ **Grid Search (Exhaustive Search)**  \n",
    "2️⃣ **Random Search (Random Sampling)**  \n",
    "3️⃣ **Bayesian Optimization (Smart Probabilistic Search)**  \n",
    "4️⃣ **Genetic Algorithm (Evolutionary Search)**  \n",
    "5️⃣ **Hyperband (Early Stopping Approach)**  \n",
    "\n",
    "---\n",
    "\n",
    "## **1️⃣ Grid Search (Exhaustive Search)**\n",
    "Grid Search tests all combinations of hyperparameters.\n"
   ]
  },
  {
   "cell_type": "code",
   "execution_count": 2,
   "metadata": {},
   "outputs": [
    {
     "name": "stdout",
     "output_type": "stream",
     "text": [
      "Best Parameters (Grid Search): {'max_depth': 10, 'min_samples_split': 2, 'n_estimators': 150}\n"
     ]
    }
   ],
   "source": [
    "\n",
    "from sklearn.model_selection import GridSearchCV\n",
    "\n",
    "# Define hyperparameter grid\n",
    "param_grid = {\n",
    "    'n_estimators': [50, 100, 150],\n",
    "    'max_depth': [5, 10, 15],\n",
    "    'min_samples_split': [2, 5, 10]\n",
    "}\n",
    "\n",
    "# Initialize Random Forest model\n",
    "rf = RandomForestClassifier(random_state=42)\n",
    "\n",
    "# Grid Search\n",
    "grid_search = GridSearchCV(rf, param_grid, cv=5, scoring='accuracy', n_jobs=-1)\n",
    "grid_search.fit(X_train, y_train)\n",
    "\n",
    "# Best Parameters\n",
    "print(\"Best Parameters (Grid Search):\", grid_search.best_params_)\n"
   ]
  },
  {
   "cell_type": "markdown",
   "metadata": {},
   "source": [
    "\n",
    "\n",
    "✅ **Pros:** Exhaustive search guarantees the best hyperparameters.  \n",
    "❌ **Cons:** Very slow for large hyperparameter spaces.  \n",
    "\n",
    "---\n",
    "\n",
    "## **2️⃣ Random Search (Faster Alternative)**\n",
    "Random Search selects random hyperparameter combinations instead of testing all.\n",
    "\n"
   ]
  },
  {
   "cell_type": "code",
   "execution_count": 3,
   "metadata": {},
   "outputs": [
    {
     "name": "stdout",
     "output_type": "stream",
     "text": [
      "Best Parameters (Random Search): {'max_depth': 19, 'min_samples_split': 4, 'n_estimators': 121}\n"
     ]
    }
   ],
   "source": [
    "\n",
    "from sklearn.model_selection import RandomizedSearchCV\n",
    "from scipy.stats import randint\n",
    "\n",
    "# Define hyperparameter distribution\n",
    "param_dist = {\n",
    "    'n_estimators': randint(50, 200),\n",
    "    'max_depth': randint(5, 20),\n",
    "    'min_samples_split': randint(2, 10)\n",
    "}\n",
    "\n",
    "# Random Search\n",
    "random_search = RandomizedSearchCV(rf, param_dist, cv=5, n_iter=10, scoring='accuracy', n_jobs=-1, random_state=42)\n",
    "random_search.fit(X_train, y_train)\n",
    "\n",
    "# Best Parameters\n",
    "print(\"Best Parameters (Random Search):\", random_search.best_params_)\n"
   ]
  },
  {
   "cell_type": "markdown",
   "metadata": {},
   "source": [
    "\n",
    "\n",
    "✅ **Pros:** Faster than Grid Search.  \n",
    "❌ **Cons:** May miss the best parameters.  \n",
    "\n",
    "---\n",
    "\n",
    "## **3️⃣ Bayesian Optimization (Smart Search)**\n",
    "Bayesian Optimization intelligently chooses the next hyperparameter values based on previous results.\n",
    "\n"
   ]
  },
  {
   "cell_type": "code",
   "execution_count": 8,
   "metadata": {},
   "outputs": [
    {
     "name": "stdout",
     "output_type": "stream",
     "text": [
      "Best Parameters (Bayesian Optimization): OrderedDict({'max_depth': 8, 'min_samples_split': 2, 'n_estimators': 200})\n"
     ]
    }
   ],
   "source": [
    "from skopt.space import Integer\n",
    "from skopt import BayesSearchCV\n",
    "\n",
    "# Define hyperparameter distribution\n",
    "param_dist = {\n",
    "    'n_estimators': Integer(50, 200),\n",
    "    'max_depth': Integer(5, 20),\n",
    "    'min_samples_split': Integer(2, 10)\n",
    "}\n",
    "\n",
    "\n",
    "# Define Bayesian Search\n",
    "bayes_search = BayesSearchCV(rf, param_dist, n_iter=20, cv=5, scoring='accuracy', n_jobs=-1, random_state=42)\n",
    "bayes_search.fit(X_train, y_train)\n",
    "\n",
    "# Best Parameters\n",
    "print(\"Best Parameters (Bayesian Optimization):\", bayes_search.best_params_)\n"
   ]
  },
  {
   "cell_type": "markdown",
   "metadata": {},
   "source": [
    "\n",
    "\n",
    "✅ **Pros:** Faster than Grid & Random Search.  \n",
    "❌ **Cons:** Needs more complex setup.  \n",
    "\n",
    "---\n",
    "\n",
    "## **4️⃣ Genetic Algorithm (Evolutionary Search)**\n",
    "Genetic Algorithms mimic evolution to find the best hyperparameters.\n",
    "\n"
   ]
  },
  {
   "cell_type": "code",
   "execution_count": 11,
   "metadata": {},
   "outputs": [
    {
     "name": "stderr",
     "output_type": "stream",
     "text": [
      "/Users/deepanshu/Library/Python/3.12/lib/python/site-packages/deap/creator.py:185: RuntimeWarning: A class named 'FitnessMax' has already been created and it will be overwritten. Consider deleting previous creation of that class or rename it.\n",
      "  warnings.warn(\"A class named '{0}' has already been created and it \"\n",
      "/Users/deepanshu/Library/Python/3.12/lib/python/site-packages/deap/creator.py:185: RuntimeWarning: A class named 'Individual' has already been created and it will be overwritten. Consider deleting previous creation of that class or rename it.\n",
      "  warnings.warn(\"A class named '{0}' has already been created and it \"\n"
     ]
    },
    {
     "name": "stdout",
     "output_type": "stream",
     "text": [
      "gen\tnevals\n",
      "0  \t20    \n",
      "1  \t11    \n",
      "2  \t13    \n",
      "3  \t14    \n",
      "4  \t10    \n",
      "5  \t9     \n",
      "6  \t9     \n",
      "7  \t11    \n",
      "8  \t15    \n",
      "9  \t13    \n",
      "10 \t14    \n",
      "Best Hyperparameters (Genetic Algorithm): [191, 65, 5]\n"
     ]
    }
   ],
   "source": [
    "from sklearn.model_selection import cross_val_score\n",
    "import random\n",
    "from deap import base, creator, tools, algorithms\n",
    "\n",
    "# Define evaluation function\n",
    "def evaluate(individual):\n",
    "    n_estimators, max_depth, min_samples_split = individual\n",
    "    model = RandomForestClassifier(n_estimators=n_estimators, max_depth=max_depth, min_samples_split=min_samples_split)\n",
    "    return np.mean(cross_val_score(model, X_train, y_train, cv=5, scoring='accuracy')),\n",
    "\n",
    "# Define Genetic Algorithm settings\n",
    "creator.create(\"FitnessMax\", base.Fitness, weights=(1.0,))\n",
    "creator.create(\"Individual\", list, fitness=creator.FitnessMax)\n",
    "\n",
    "toolbox = base.Toolbox()\n",
    "toolbox.register(\"attr_int\", random.randint, 50, 200)\n",
    "toolbox.register(\"attr_int2\", random.randint, 5, 20)\n",
    "toolbox.register(\"attr_int3\", random.randint, 2, 10)\n",
    "toolbox.register(\"individual\", tools.initCycle, creator.Individual, (toolbox.attr_int, toolbox.attr_int2, toolbox.attr_int3), n=1)\n",
    "toolbox.register(\"population\", tools.initRepeat, list, toolbox.individual)\n",
    "\n",
    "toolbox.register(\"evaluate\", evaluate)\n",
    "toolbox.register(\"mate\", tools.cxTwoPoint)\n",
    "toolbox.register(\"mutate\", tools.mutUniformInt, low=1, up=200, indpb=0.2)\n",
    "toolbox.register(\"select\", tools.selBest)\n",
    "\n",
    "# Run Genetic Algorithm\n",
    "pop = toolbox.population(n=20)\n",
    "algorithms.eaSimple(pop, toolbox, cxpb=0.5, mutpb=0.2, ngen=10, verbose=True)\n",
    "\n",
    "# Best Hyperparameters\n",
    "best_params = tools.selBest(pop, k=1)[0]\n",
    "print(f\"Best Hyperparameters (Genetic Algorithm): {best_params}\")\n"
   ]
  },
  {
   "cell_type": "markdown",
   "metadata": {},
   "source": [
    "\n",
    "\n",
    "✅ **Pros:** Efficient for large search spaces.  \n",
    "❌ **Cons:** Computationally expensive.  \n",
    "\n",
    "---\n",
    "\n",
    "## **5️⃣ Hyperband (Early Stopping Approach)**\n",
    "Hyperband efficiently stops poor-performing models early.\n",
    "\n"
   ]
  },
  {
   "cell_type": "code",
   "execution_count": 13,
   "metadata": {},
   "outputs": [
    {
     "name": "stdout",
     "output_type": "stream",
     "text": [
      "100%|██████████| 20/20 [00:15<00:00,  1.26trial/s, best loss: -0.9604395604395606]\n",
      "Best Hyperparameters (Hyperband): {'max_depth': np.float64(17.0), 'min_samples_split': np.float64(5.463828214994542), 'n_estimators': np.float64(150.0)}\n"
     ]
    }
   ],
   "source": [
    "\n",
    "from hyperopt import fmin, tpe, hp, Trials\n",
    "\n",
    "# Define search space\n",
    "search_space = {\n",
    "    'n_estimators': hp.quniform('n_estimators', 50, 200, 10),\n",
    "    'max_depth': hp.quniform('max_depth', 5, 20, 1),\n",
    "    'min_samples_split': hp.uniform('min_samples_split', 2, 10)\n",
    "}\n",
    "\n",
    "# Define objective function\n",
    "def objective(params):\n",
    "    model = RandomForestClassifier(n_estimators=int(params['n_estimators']), \n",
    "                                   max_depth=int(params['max_depth']), \n",
    "                                   min_samples_split=int(params['min_samples_split']))\n",
    "    score = np.mean(cross_val_score(model, X_train, y_train, cv=5, scoring='accuracy'))\n",
    "    return -score\n",
    "\n",
    "# Run Hyperband\n",
    "trials = Trials()\n",
    "best = fmin(fn=objective, space=search_space, algo=tpe.suggest, max_evals=20, trials=trials)\n",
    "print(f\"Best Hyperparameters (Hyperband): {best}\")\n"
   ]
  },
  {
   "cell_type": "markdown",
   "metadata": {},
   "source": [
    "\n",
    "\n",
    "✅ **Pros:** Saves computation time.  \n",
    "❌ **Cons:** Requires careful configuration.  \n",
    "\n",
    "---\n",
    "\n",
    "## **📌 Step 3: Compare Best Hyperparameters from Each Method**\n"
   ]
  },
  {
   "cell_type": "code",
   "execution_count": null,
   "metadata": {},
   "outputs": [],
   "source": [
    "\n",
    "print(\"Grid Search Best Params:\", grid_search.best_params_)\n",
    "print(\"Random Search Best Params:\", random_search.best_params_)\n",
    "print(\"Bayesian Optimization Best Params:\", bayes_search.best_params_)\n",
    "print(\"Genetic Algorithm Best Params:\", best_params)\n",
    "print(\"Hyperband Best Params:\", best)\n"
   ]
  },
  {
   "cell_type": "markdown",
   "metadata": {},
   "source": [
    "\n",
    "\n",
    "---\n",
    "\n",
    "## **📊 Summary of Hyperparameter Tuning Methods**\n",
    "\n",
    "| **Method**            | **Speed**  | **Efficiency**  | **Best for** |\n",
    "|----------------------|-----------|---------------|-------------|\n",
    "| **Grid Search**       | ❌ Slow    | ✅ Exhaustive  | Small Spaces |\n",
    "| **Random Search**     | ✅ Faster  | ❌ Less Efficient | Large Spaces |\n",
    "| **Bayesian Opt.**     | 🚀 Fastest  | ✅ Efficient  | Complex Models |\n",
    "| **Genetic Algorithm** | ❌ Slow    | ✅ Best for large spaces | Neural Networks |\n",
    "| **Hyperband**         | 🚀 Fastest | ✅ Early stopping | Deep Learning |\n",
    "\n",
    "---\n"
   ]
  },
  {
   "cell_type": "markdown",
   "metadata": {},
   "source": [
    "### **📊 Visualizing Hyperparameter Tuning Results**  \n",
    "We'll now visualize the **performance of different hyperparameter tuning methods** using accuracy scores and parameter distributions.\n",
    "\n",
    "---\n",
    "\n",
    "### **1️⃣ Visualizing Accuracy Scores for Each Method**\n",
    "We'll compare the best accuracy achieved by each hyperparameter tuning method.\n",
    "\n",
    "#### **📌 Step 1: Store Accuracy Scores**\n",
    "We'll evaluate each best-tuned model on the test set.\n",
    "\n"
   ]
  },
  {
   "cell_type": "code",
   "execution_count": 14,
   "metadata": {},
   "outputs": [
    {
     "name": "stderr",
     "output_type": "stream",
     "text": [
      "/var/folders/rn/kh_33hpd2s12y9sdfb85yhjc0000gp/T/ipykernel_8605/3451233908.py:19: FutureWarning: \n",
      "\n",
      "Passing `palette` without assigning `hue` is deprecated and will be removed in v0.14.0. Assign the `x` variable to `hue` and set `legend=False` for the same effect.\n",
      "\n",
      "  sns.barplot(x=list(accuracy_scores.keys()), y=list(accuracy_scores.values()), palette=\"viridis\")\n"
     ]
    },
    {
     "data": {
      "image/png": "[encoded data removed]",
      "text/plain": [
       "<Figure size 1000x500 with 1 Axes>"
      ]
     },
     "metadata": {},
     "output_type": "display_data"
    }
   ],
   "source": [
    "\n",
    "import matplotlib.pyplot as plt\n",
    "import seaborn as sns\n",
    "from sklearn.metrics import accuracy_score\n",
    "\n",
    "# Get the best models\n",
    "best_models = {\n",
    "    \"Grid Search\": grid_search.best_estimator_,\n",
    "    \"Random Search\": random_search.best_estimator_,\n",
    "    \"Bayesian Opt.\": bayes_search.best_estimator_,\n",
    "    \"Genetic Algorithm\": RandomForestClassifier(n_estimators=best_params[0], max_depth=best_params[1], min_samples_split=best_params[2]).fit(X_train, y_train),\n",
    "    \"Hyperband\": RandomForestClassifier(n_estimators=int(best['n_estimators']), max_depth=int(best['max_depth']), min_samples_split=int(best['min_samples_split'])).fit(X_train, y_train)\n",
    "}\n",
    "\n",
    "# Calculate accuracy scores\n",
    "accuracy_scores = {name: accuracy_score(y_test, model.predict(X_test)) for name, model in best_models.items()}\n",
    "\n",
    "# Plot accuracy scores\n",
    "plt.figure(figsize=(10, 5))\n",
    "sns.barplot(x=list(accuracy_scores.keys()), y=list(accuracy_scores.values()), palette=\"viridis\")\n",
    "plt.xlabel(\"Hyperparameter Tuning Method\")\n",
    "plt.ylabel(\"Test Accuracy\")\n",
    "plt.title(\"Comparison of Accuracy Across Tuning Methods\")\n",
    "plt.ylim(0.85, 1.0)\n",
    "plt.show()\n"
   ]
  },
  {
   "cell_type": "markdown",
   "metadata": {},
   "source": [
    "\n",
    "✅ **Interpretation:**  \n",
    "- The **height of the bars** shows the **test accuracy** after hyperparameter tuning.\n",
    "- The best tuning method will have the highest accuracy.\n",
    "\n",
    "---\n",
    "\n",
    "### **2️⃣ Hyperparameter Distributions**\n",
    "We can **visualize the distribution of selected hyperparameters** across different methods.\n",
    "\n",
    "#### **📌 Step 2: Visualizing Parameter Selection**\n"
   ]
  },
  {
   "cell_type": "code",
   "execution_count": 15,
   "metadata": {},
   "outputs": [
    {
     "name": "stderr",
     "output_type": "stream",
     "text": [
      "/var/folders/rn/kh_33hpd2s12y9sdfb85yhjc0000gp/T/ipykernel_8605/4166302961.py:19: FutureWarning: \n",
      "\n",
      "Passing `palette` without assigning `hue` is deprecated and will be removed in v0.14.0. Assign the `x` variable to `hue` and set `legend=False` for the same effect.\n",
      "\n",
      "  sns.barplot(x=methods, y=n_estimators, ax=axes[0], palette=\"coolwarm\")\n",
      "/var/folders/rn/kh_33hpd2s12y9sdfb85yhjc0000gp/T/ipykernel_8605/4166302961.py:24: FutureWarning: \n",
      "\n",
      "Passing `palette` without assigning `hue` is deprecated and will be removed in v0.14.0. Assign the `x` variable to `hue` and set `legend=False` for the same effect.\n",
      "\n",
      "  sns.barplot(x=methods, y=max_depth, ax=axes[1], palette=\"coolwarm\")\n"
     ]
    },
    {
     "data": {
      "image/png": "[encoded data removed]",
      "text/plain": [
       "<Figure size 1200x500 with 2 Axes>"
      ]
     },
     "metadata": {},
     "output_type": "display_data"
    }
   ],
   "source": [
    "\n",
    "# Extracting best parameters\n",
    "methods = [\"Grid Search\", \"Random Search\", \"Bayesian Opt.\", \"Genetic Algorithm\", \"Hyperband\"]\n",
    "n_estimators = [grid_search.best_params_['n_estimators'],\n",
    "                random_search.best_params_['n_estimators'],\n",
    "                bayes_search.best_params_['n_estimators'],\n",
    "                best_params[0],  # Genetic Algorithm\n",
    "                int(best['n_estimators'])]  # Hyperband\n",
    "\n",
    "max_depth = [grid_search.best_params_['max_depth'],\n",
    "             random_search.best_params_['max_depth'],\n",
    "             bayes_search.best_params_['max_depth'],\n",
    "             best_params[1],\n",
    "             int(best['max_depth'])]\n",
    "\n",
    "# Plot parameter distribution\n",
    "fig, axes = plt.subplots(1, 2, figsize=(12, 5))\n",
    "\n",
    "# n_estimators distribution\n",
    "sns.barplot(x=methods, y=n_estimators, ax=axes[0], palette=\"coolwarm\")\n",
    "axes[0].set_title(\"n_estimators across methods\")\n",
    "axes[0].set_ylabel(\"n_estimators\")\n",
    "\n",
    "# max_depth distribution\n",
    "sns.barplot(x=methods, y=max_depth, ax=axes[1], palette=\"coolwarm\")\n",
    "axes[1].set_title(\"max_depth across methods\")\n",
    "axes[1].set_ylabel(\"max_depth\")\n",
    "\n",
    "plt.xticks(rotation=30)\n",
    "plt.show()\n"
   ]
  },
  {
   "cell_type": "markdown",
   "metadata": {},
   "source": [
    "\n",
    "\n",
    "✅ **Interpretation:**  \n",
    "- Each bar shows **which hyperparameter values** were selected by different tuning methods.\n",
    "- If one method consistently selects **better values**, it’s more efficient.\n",
    "\n",
    "---\n",
    "\n",
    "### **3️⃣ Hyperparameter Performance Over Time**\n",
    "For **Bayesian Optimization and Genetic Algorithm**, we can visualize how the accuracy improved over iterations.\n",
    "\n",
    "#### **📌 Step 3: Visualizing Bayesian Optimization Convergence**\n"
   ]
  },
  {
   "cell_type": "code",
   "execution_count": 18,
   "metadata": {},
   "outputs": [
    {
     "data": {
      "image/png": "[encoded data removed]",
      "text/plain": [
       "<Figure size 640x480 with 1 Axes>"
      ]
     },
     "metadata": {},
     "output_type": "display_data"
    }
   ],
   "source": [
    "\n",
    "from skopt.plots import plot_convergence\n",
    "\n",
    "# Plot Bayesian Optimization Convergence\n",
    "plot_convergence(bayes_search.optimizer_results_[0])\n",
    "plt.show()\n"
   ]
  },
  {
   "cell_type": "markdown",
   "metadata": {},
   "source": [
    "\n",
    "✅ **Interpretation:**  \n",
    "- **Y-axis:** Best accuracy found so far.  \n",
    "- **X-axis:** Iteration number.  \n",
    "- A steep increase at the start means Bayesian Optimization quickly finds better hyperparameters.\n",
    "\n",
    "---\n",
    "\n",
    "#### **📌 Step 4: Genetic Algorithm Evolution Progress**\n"
   ]
  },
  {
   "cell_type": "code",
   "execution_count": 17,
   "metadata": {},
   "outputs": [
    {
     "data": {
      "image/png": "[encoded data removed]",
      "text/plain": [
       "<Figure size 800x500 with 1 Axes>"
      ]
     },
     "metadata": {},
     "output_type": "display_data"
    }
   ],
   "source": [
    "\n",
    "# Extract fitness scores (accuracy over generations)\n",
    "fitness_scores = [ind.fitness.values[0] for ind in pop]\n",
    "\n",
    "# Plot accuracy over generations\n",
    "plt.figure(figsize=(8, 5))\n",
    "plt.plot(range(len(fitness_scores)), fitness_scores, marker='o', linestyle='--', color='green')\n",
    "plt.xlabel(\"Generation\")\n",
    "plt.ylabel(\"Best Accuracy Found\")\n",
    "plt.title(\"Genetic Algorithm Hyperparameter Evolution\")\n",
    "plt.show()\n"
   ]
  },
  {
   "cell_type": "markdown",
   "metadata": {},
   "source": [
    "\n",
    "✅ **Interpretation:**  \n",
    "- **Steady improvement** over generations shows that the genetic algorithm **evolves** towards better hyperparameters.\n",
    "\n",
    "---\n",
    "\n",
    "## **🎯 Key Takeaways**\n",
    "1️⃣ **Best Accuracy** → Found using Bayesian Optimization or Hyperband.  \n",
    "2️⃣ **Fastest Search** → Hyperband stops bad models early.  \n",
    "3️⃣ **Hyperparameter Selection Trends** → Some methods choose lower `max_depth`, while others favor more trees (`n_estimators`).  \n",
    "4️⃣ **Evolution of Accuracy** → Bayesian & Genetic methods improve step-by-step.  \n",
    "\n",
    "---\n"
   ]
  }
 ],
 "metadata": {
  "kernelspec": {
   "display_name": "Python 3",
   "language": "python",
   "name": "python3"
  },
  "language_info": {
   "codemirror_mode": {
    "name": "ipython",
    "version": 3
   },
   "file_extension": ".py",
   "mimetype": "text/x-python",
   "name": "python",
   "nbconvert_exporter": "python",
   "pygments_lexer": "ipython3",
   "version": "3.12.6"
  }
 },
 "nbformat": 4,
 "nbformat_minor": 2
}
