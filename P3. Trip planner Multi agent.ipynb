{
 "cells": [
  {
   "cell_type": "markdown",
   "metadata": {
    "vscode": {
     "languageId": "plaintext"
    }
   },
   "source": [
    "let's design a **Multi-Agent RAG-based Trip Planning System** that can:  \n",
    "✅ Retrieve **real-time travel data** (flights, hotels, attractions)  \n",
    "✅ Utilize **local knowledge bases** (pre-stored travel tips)  \n",
    "✅ Leverage **online search APIs** (Google, Bing, or DuckDuckGo)  \n",
    "✅ Provide structured, **well-formatted** responses  \n",
    "\n",
    "---\n",
    "\n",
    "### **🚀 System Architecture: Multi-Agent RAG for Trip Planning**\n",
    "We'll create multiple **specialized agents**, each handling different aspects of trip planning:\n",
    "\n",
    "1️⃣ **Flight Agent** ✈️ → Fetches flight details  \n",
    "2️⃣ **Hotel Agent** 🏨 → Recommends accommodations  \n",
    "3️⃣ **Attractions Agent** 🏛️ → Suggests must-visit places  \n",
    "4️⃣ **Weather Agent** ⛅ → Fetches real-time weather info  \n",
    "5️⃣ **Local Transport Agent** 🚆 → Provides public transport details  \n",
    "6️⃣ **Dining Agent** 🍽️ → Suggests restaurants based on preferences  \n",
    "7️⃣ **Budget Planner** 💰 → Estimates trip costs  \n",
    "8️⃣ **Final Response Generator** 📝 → Formats a complete trip itinerary  \n",
    "\n",
    "---\n",
    "\n",
    "### **🛠️ Tech Stack**\n",
    "- **LangChain** for RAG-based retrieval  \n",
    "- **FAISS / ChromaDB** for vector storage  \n",
    "- **Online Search APIs** (Google, Bing, or DuckDuckGo)  \n",
    "- **OpenAI / LLaMA / Mistral** for response generation  \n",
    "- **Multi-Agent Workflow** (LangGraph / AgentExecutor)  \n",
    "\n",
    "---\n"
   ]
  },
  {
   "cell_type": "markdown",
   "metadata": {
    "vscode": {
     "languageId": "plaintext"
    }
   },
   "source": [
    "\n",
    "### **🔨 Let's Start Building!**\n",
    "I'll first create the basic **Multi-Agent RAG Framework**. Then, we'll enhance it step by step. Stay tuned! 🚀\n"
   ]
  },
  {
   "cell_type": "code",
   "execution_count": 35,
   "metadata": {},
   "outputs": [],
   "source": [
    "import openai\n",
    "import requests\n",
    "from langchain.tools import Tool\n",
    "from langchain.chat_models import ChatOpenAI\n",
    "from langchain.vectorstores import FAISS\n",
    "from langchain.embeddings import OpenAIEmbeddings\n",
    "from langchain.document_loaders import TextLoader\n",
    "from langchain.text_splitter import RecursiveCharacterTextSplitter\n",
    "from langchain.agents import initialize_agent, AgentType\n",
    "from langchain.memory import ConversationBufferMemory\n",
    "import os\n",
    "from dotenv import load_dotenv\n",
    "from langchain_groq import ChatGroq\n",
    "\n",
    "from langchain_google_genai import ChatGoogleGenerativeAI\n"
   ]
  },
  {
   "cell_type": "code",
   "execution_count": 36,
   "metadata": {},
   "outputs": [],
   "source": [
    "# Load API Key\n",
    "load_dotenv()\n",
    "GROQ_API_KEY = os.getenv(\"GROQ_API_KEY\")\n",
    "GEMINI_API_KEY = os.getenv(\"GEMINI_API_KEY\")\n",
    "\n"
   ]
  },
  {
   "cell_type": "code",
   "execution_count": 14,
   "metadata": {},
   "outputs": [],
   "source": [
    "# Load the knowledge base\n",
    "def load_knowledge_base():\n",
    "    loader = TextLoader(\"data/knowledge_base.txt\")\n",
    "    docs = loader.load()\n",
    "    text_splitter = RecursiveCharacterTextSplitter(chunk_size=500, chunk_overlap=50)\n",
    "    split_docs = text_splitter.split_documents(docs)\n",
    "    vectorstore = FAISS.from_documents(split_docs, OpenAIEmbeddings())\n",
    "    return vectorstore\n",
    "\n"
   ]
  },
  {
   "cell_type": "code",
   "execution_count": 15,
   "metadata": {},
   "outputs": [],
   "source": [
    "# Define agents\n",
    "flight_agent = Tool(\n",
    "    name=\"Flight Search Agent\",\n",
    "    func=lambda query: f\"Fetching flight details for {query}...\",  # Placeholder\n",
    "    description=\"Finds flight options for the trip.\"\n",
    ")\n",
    "\n",
    "hotel_agent = Tool(\n",
    "    name=\"Hotel Booking Agent\",\n",
    "    func=lambda query: f\"Finding best hotels in {query}...\",  # Placeholder\n",
    "    description=\"Finds hotel recommendations.\"\n",
    ")\n",
    "\n",
    "weather_agent = Tool(\n",
    "    name=\"Weather Agent\",\n",
    "    func=lambda query: f\"Fetching weather details for {query}...\",  # Placeholder\n",
    "    description=\"Retrieves weather forecast.\"\n",
    ")\n",
    "\n",
    "attraction_agent = Tool(\n",
    "    name=\"Attractions Finder\",\n",
    "    func=lambda query: f\"Top places to visit in {query}: Eiffel Tower, Louvre, Notre-Dame...\",  # Placeholder\n",
    "    description=\"Suggests top tourist attractions.\"\n",
    ")\n",
    "\n",
    "dining_agent = Tool(\n",
    "    name=\"Dining Agent\",\n",
    "    func=lambda query: f\"Fetching top restaurants in {query}...\",  # Placeholder\n",
    "    description=\"Finds the best places to eat.\"\n",
    ")\n",
    "\n",
    "budget_agent = Tool(\n",
    "    name=\"Budget Planner\",\n",
    "    func=lambda query: f\"Estimating trip costs for {query}...\",  # Placeholder\n",
    "    description=\"Calculates trip expenses.\"\n",
    ")\n",
    "\n"
   ]
  },
  {
   "cell_type": "code",
   "execution_count": 39,
   "metadata": {},
   "outputs": [],
   "source": [
    "# Initialize LangChain Groq Model\n",
    "#llm = ChatGroq(model_name=\"qwen-2.5-32b\", groq_api_key=GROQ_API_KEY)\n",
    "# Set up the LLM\n",
    "\n",
    "from langchain_google_genai import ChatGoogleGenerativeAI\n",
    "llm = ChatGoogleGenerativeAI(model=\"gemini-2.5-pro-exp-03-25'\", google_api_key=GEMINI_API_KEY)\n",
    "\n"
   ]
  },
  {
   "cell_type": "code",
   "execution_count": 17,
   "metadata": {},
   "outputs": [],
   "source": [
    "# Load knowledge base\n",
    "vectorstore = load_knowledge_base()\n",
    "retrieval_agent = Tool(\n",
    "    name=\"Knowledge Base Retriever\",\n",
    "    func=lambda query: vectorstore.similarity_search(query, k=3),\n",
    "    description=\"Retrieves relevant information from the knowledge base.\"\n",
    ")\n",
    "\n"
   ]
  },
  {
   "cell_type": "code",
   "execution_count": 21,
   "metadata": {},
   "outputs": [],
   "source": [
    "# Initialize Multi-Agent System\n",
    "agent_executor = initialize_agent(\n",
    "    tools=[flight_agent, hotel_agent, weather_agent, attraction_agent, dining_agent, budget_agent, retrieval_agent],\n",
    "    llm=llm,\n",
    "    agent=AgentType.ZERO_SHOT_REACT_DESCRIPTION,\n",
    "    verbose=False,\n",
    "    memory=ConversationBufferMemory(memory_key=\"chat_history\")\n",
    ")\n",
    "\n"
   ]
  },
  {
   "cell_type": "code",
   "execution_count": 22,
   "metadata": {},
   "outputs": [],
   "source": [
    "# Query the Multi-Agent RAG System\n",
    "def plan_trip(destination):\n",
    "    query = f\"Plan a trip to {destination}\"\n",
    "    response = agent_executor.run(query)\n",
    "    return response\n",
    "\n"
   ]
  },
  {
   "cell_type": "code",
   "execution_count": 41,
   "metadata": {},
   "outputs": [
    {
     "name": "stdout",
     "output_type": "stream",
     "text": [
      "For a 5-day trip to London in June, you can consider the following itinerary and recommendations:\n",
      "\n",
      "1. **Flight and Accommodation**: I initiated a search for flight options and hotel bookings for a 5-day trip in June. You should review the options provided by the Flight Search Agent and Hotel Booking Agent for the best deals.\n",
      "\n",
      "2. **Attractions**: Here are some top attractions in London you can visit:\n",
      "   - The British Museum\n",
      "   - The Tower of London\n",
      "   - Buckingham Palace\n",
      "   - The London Eye\n",
      "   - Westminster Abbey\n",
      "   - The Natural History Museum\n",
      "   - Tate Modern\n",
      "\n",
      "3. **Weather in June**: London's weather in June is generally mild, but it's advisable to check the specific forecast closer to your travel dates to pack appropriately.\n",
      "\n",
      "4. **Itinerary**:\n",
      "   - Day 1: Arrive in London and settle into your hotel. Spend the evening exploring the local area.\n",
      "   - Day 2: Visit the British Museum and The Tower of London.\n",
      "   - Day 3: Explore Westminster Abbey and the Houses of Parliament, then take a tour of Buckingham Palace.\n",
      "   - Day 4: Spend the day at the London Eye and visit the Natural History Museum or Tate Modern.\n",
      "   - Day 5: Visit other areas of interest or relax before departing.\n",
      "\n",
      "I recommend checking the latest reviews and opening times for the attractions, as well as any entry requirements, to ensure a smooth trip. Enjoy your time in London!\n"
     ]
    }
   ],
   "source": [
    "# Example usage\n",
    "destination = \"give we 5 day trip to london in june\"\n",
    "trip_plan = plan_trip(destination)\n",
    "print(trip_plan)\n"
   ]
  },
  {
   "cell_type": "markdown",
   "metadata": {},
   "source": [
    "\n",
    "I've created the initial **Multi-Agent RAG System** for trip planning. This framework includes specialized agents for flights, hotels, attractions, dining, weather, and budgeting, along with a knowledge base retriever.\n",
    "\n",
    "Next steps:\n",
    "1️⃣ **Integrate Real-Time APIs** (Flights, Hotels, Weather, etc.)  \n",
    "2️⃣ **Improve Response Formatting** (Structured itinerary output)  \n",
    "3️⃣ **Enhance Retrieval with Hybrid RAG** (BM25 + FAISS)  \n",
    "\n",
    "Let me know which feature you want to prioritize! 🚀"
   ]
  },
  {
   "cell_type": "code",
   "execution_count": null,
   "metadata": {},
   "outputs": [],
   "source": []
  },
  {
   "cell_type": "code",
   "execution_count": null,
   "metadata": {},
   "outputs": [],
   "source": []
  },
  {
   "cell_type": "markdown",
   "metadata": {},
   "source": [
    "Got it! We'll build a **multi-agent travel itinerary planner** using:  \n",
    "✅ **Multiple web search agents** (Flights, Hotels, Food, Attractions, Weather, Budget).  \n",
    "✅ **Serper API** for web search.  \n",
    "✅ **Gemini LLM** for final response generation.  \n",
    "\n",
    "Each agent will **search the web for relevant information**, and at the end, the **Gemini LLM** will format and summarize everything into a well-structured itinerary.\n",
    "\n",
    "---\n",
    "\n",
    "### **🔹 Features of the Travel Planner**\n",
    "- **Multi-agent system**: Dedicated agents for flights, hotels, food, attractions, weather, and budget.  \n",
    "- **Serper API**: Fetches web results dynamically.  \n",
    "- **Structured Itinerary**: LLM organizes results into a **day-by-day travel plan** if needed.  \n",
    "- **LLM (Gemini)**: Generates the final user-friendly response.\n",
    "\n",
    "---\n",
    "\n",
    "### **🚀 Code for the Multi-Agent Travel Planner**\n",
    "Here’s the full implementation:\n",
    "\n",
    "---\n"
   ]
  },
  {
   "cell_type": "code",
   "execution_count": 57,
   "metadata": {},
   "outputs": [],
   "source": [
    "import os\n",
    "import requests\n",
    "from dotenv import load_dotenv\n",
    "from langchain.tools import Tool\n",
    "from langchain.agents import initialize_agent, AgentType\n",
    "from langchain.memory import ConversationBufferMemory\n",
    "from langchain_google_genai import ChatGoogleGenerativeAI\n"
   ]
  },
  {
   "cell_type": "code",
   "execution_count": 58,
   "metadata": {},
   "outputs": [],
   "source": [
    "\n",
    "# Load API Keys\n",
    "load_dotenv()\n",
    "SERPER_API_KEY = os.getenv(\"SERPER_API_KEY\")\n",
    "GEMINI_API_KEY = os.getenv(\"GEMINI_API_KEY\")\n"
   ]
  },
  {
   "cell_type": "code",
   "execution_count": 59,
   "metadata": {},
   "outputs": [],
   "source": [
    "\n",
    "# Web Search Function using Serper API\n",
    "def web_search(query):\n",
    "    url = \"https://google.serper.dev/search\"\n",
    "    headers = {\"X-API-KEY\": SERPER_API_KEY, \"Content-Type\": \"application/json\"}\n",
    "    payload = {\"q\": query, \"num\": 3}  # Fetch top 3 results\n",
    "    response = requests.post(url, headers=headers, json=payload)\n",
    "    if response.status_code == 200:\n",
    "        data = response.json()\n",
    "        return \"\\n\".join([result[\"link\"] for result in data.get(\"organic\", [])])\n",
    "    return \"No results found.\"\n"
   ]
  },
  {
   "cell_type": "code",
   "execution_count": 60,
   "metadata": {},
   "outputs": [],
   "source": [
    "\n",
    "# Define Agents for Different Travel Tasks\n",
    "flight_agent = Tool(\n",
    "    name=\"Flight Search Agent\",\n",
    "    func=lambda query: web_search(f\"Best flights to {query}\"),\n",
    "    description=\"Finds flight options for the trip.\"\n",
    ")\n"
   ]
  },
  {
   "cell_type": "code",
   "execution_count": 61,
   "metadata": {},
   "outputs": [],
   "source": [
    "\n",
    "hotel_agent = Tool(\n",
    "    name=\"Hotel Booking Agent\",\n",
    "    func=lambda query: web_search(f\"Best hotels in {query}\"),\n",
    "    description=\"Finds hotel recommendations.\"\n",
    ")\n",
    "\n",
    "food_agent = Tool(\n",
    "    name=\"Food & Dining Agent\",\n",
    "    func=lambda query: web_search(f\"Best restaurants in {query}\"),\n",
    "    description=\"Suggests top places to eat.\"\n",
    ")\n",
    "\n",
    "attraction_agent = Tool(\n",
    "    name=\"Attractions Finder\",\n",
    "    func=lambda query: web_search(f\"Top tourist attractions in {query}\"),\n",
    "    description=\"Finds must-visit attractions.\"\n",
    ")\n",
    "\n",
    "weather_agent = Tool(\n",
    "    name=\"Weather Forecast Agent\",\n",
    "    func=lambda query: web_search(f\"Weather forecast in {query} for next 5 days\"),\n",
    "    description=\"Gets the weather forecast for the trip.\"\n",
    ")\n",
    "\n",
    "budget_agent = Tool(\n",
    "    name=\"Budget Planner\",\n",
    "    func=lambda query: web_search(f\"Estimated travel costs for {query}\"),\n",
    "    description=\"Estimates the budget required for the trip.\"\n",
    ")\n"
   ]
  },
  {
   "cell_type": "code",
   "execution_count": 62,
   "metadata": {},
   "outputs": [],
   "source": [
    "\n",
    "# Initialize Gemini LLM\n",
    "\n",
    "from langchain_groq import ChatGroq\n",
    "from langchain_google_genai import ChatGoogleGenerativeAI\n",
    "#llm = ChatGoogleGenerativeAI(model=\"gemini-2.5-pro-exp-03-25\", google_api_key=GEMINI_API_KEY)\n",
    "llm = ChatGroq(model_name=\"qwen-2.5-32b\", groq_api_key=GROQ_API_KEY)\n"
   ]
  },
  {
   "cell_type": "code",
   "execution_count": 63,
   "metadata": {},
   "outputs": [],
   "source": [
    "\n",
    "# Initialize Multi-Agent System\n",
    "agent_executor = initialize_agent(\n",
    "    tools=[flight_agent, hotel_agent, food_agent, attraction_agent, weather_agent, budget_agent],\n",
    "    llm=llm,\n",
    "    agent=AgentType.ZERO_SHOT_REACT_DESCRIPTION,\n",
    "    verbose=True,\n",
    "    memory=ConversationBufferMemory(memory_key=\"chat_history\")\n",
    ")\n",
    "\n",
    "# Function to Generate a Travel Plan\n",
    "def plan_trip(destination, days=3):\n",
    "    query = f\"Plan a {days}-day trip to {destination} with details on flights, hotels, food, attractions, weather, and budget.\"\n",
    "    response = agent_executor.run(query)\n",
    "    return response\n"
   ]
  },
  {
   "cell_type": "code",
   "execution_count": 64,
   "metadata": {},
   "outputs": [
    {
     "name": "stdout",
     "output_type": "stream",
     "text": [
      "\n",
      "\n",
      "\u001b[1m> Entering new AgentExecutor chain...\u001b[0m\n",
      "\u001b[32;1m\u001b[1;3mThought: To plan a 5-day trip to Paris, I need to gather information on flights, hotels, food, attractions, weather, and budget. I will start with flights.\n",
      "Action: Flight Search Agent\n",
      "Action Input: Paris, 5 days from today\u001b[0m\n",
      "Observation: \u001b[36;1m\u001b[1;3mNo results found.\u001b[0m\n",
      "Thought:\u001b[32;1m\u001b[1;3mThought: It's possible that there are no direct flights or availability for the specified dates. I should try a different date range or consider connecting flights.\n",
      "Action: Flight Search Agent\n",
      "Action Input: Paris, 5 days from next week, including connecting flights\u001b[0m\n",
      "Observation: \u001b[36;1m\u001b[1;3mNo results found.\u001b[0m\n",
      "Thought:\u001b[32;1m\u001b[1;3mThought: It seems there might be an issue with the specific dates or availability. I'll broaden the search to a more flexible date range to ensure I can find a flight.\n",
      "Action: Flight Search Agent\n",
      "Action Input: Paris, flexible dates within the next month, including connecting flights\u001b[0m\n",
      "Observation: \u001b[36;1m\u001b[1;3mNo results found.\u001b[0m\n",
      "Thought:\u001b[32;1m\u001b[1;3mThought: It appears there might be an issue with the flight search agent or the availability in the given timeframe. In lieu of receiving flight information, I will proceed with the other aspects of the trip to Paris, such as hotels, food, attractions, weather, and budget, and then suggest a more flexible approach for the flights.\n",
      "\n",
      "Action: Hotel Booking Agent\n",
      "Action Input: Paris, 5 nights\u001b[0m\n",
      "Observation: \u001b[33;1m\u001b[1;3mNo results found.\u001b[0m\n",
      "Thought:\u001b[32;1m\u001b[1;3mThought: It seems there might be an issue with the current hotel booking agent. Since I cannot proceed with the initial plan, I will assume hypothetical scenarios for the hotel, food, attractions, weather, and budget based on typical options available to visitors in Paris. I'll start with an estimate for a flight.\n",
      "\n",
      "Action: Flight Search Agent\n",
      "Action Input: Paris, flexible dates within the next month, including connecting flights\u001b[0m\n",
      "Observation: \u001b[36;1m\u001b[1;3mNo results found.\u001b[0m\n",
      "Thought:\u001b[32;1m\u001b[1;3mThought: Given the repeated inability to retrieve flight information, let's assume a hypothetical scenario for a round-trip flight to Paris from a major U.S. city, such as New York, to provide a comprehensive trip plan. I will also assume a typical 5-star hotel to provide a high-quality experience, and then suggest a budget, food options, and attractions based on this scenario.\n",
      "\n",
      "Action: Budget Planner\n",
      "Action Input: 5-day trip to Paris, including flights, hotels, food, attractions, and miscellaneous expenses\u001b[0m\n",
      "Observation: \u001b[38;5;200m\u001b[1;3mNo results found.\u001b[0m\n",
      "Thought:\u001b[32;1m\u001b[1;3mThought: Since all attempts to retrieve specific information using the available tools have failed, I will provide a general outline for planning a 5-day trip to Paris based on typical costs and experiences.\n",
      "\n",
      "Final Answer: For a 5-day trip to Paris, you will need to consider the following:\n",
      "\n",
      "1. **Flights**: Assume a round-trip flight from a major U.S. city to Paris, which typically costs between $600 and $1,200 depending on the season and flight specifics.\n",
      "\n",
      "2. **Hotels**: A 5-star hotel in central Paris can cost around $400 to $600 per night, totaling between $2,000 and $3,000 for 5 nights.\n",
      "\n",
      "3. **Food**: Paris is known for its dining experiences. Daily expenses for meals can range from $50 to $100 per person, totaling around $250 to $500 for 5 days.\n",
      "\n",
      "4. **Attractions**: Entry fees to attractions like the Louvre, Eiffel Tower, and various museums can add up. Expect to spend approximately $100 to $200 on these.\n",
      "\n",
      "5. **Miscellaneous**: Additional expenses like transportation, souvenirs, and other activities can total around $100 to $200 per day, adding another $500 to $1,000 to the budget.\n",
      "\n",
      "In total, a 5-day trip to Paris can range from approximately $3,150 to $4,000 per person, excluding the cost of flights. This budget assumes a higher-end experience with quality dining and a stay in a central, 5-star hotel. For a more detailed and personalized plan, attempting the search again later or using a different service might be necessary.\u001b[0m\n",
      "\n",
      "\u001b[1m> Finished chain.\u001b[0m\n",
      "For a 5-day trip to Paris, you will need to consider the following:\n",
      "\n",
      "1. **Flights**: Assume a round-trip flight from a major U.S. city to Paris, which typically costs between $600 and $1,200 depending on the season and flight specifics.\n",
      "\n",
      "2. **Hotels**: A 5-star hotel in central Paris can cost around $400 to $600 per night, totaling between $2,000 and $3,000 for 5 nights.\n",
      "\n",
      "3. **Food**: Paris is known for its dining experiences. Daily expenses for meals can range from $50 to $100 per person, totaling around $250 to $500 for 5 days.\n",
      "\n",
      "4. **Attractions**: Entry fees to attractions like the Louvre, Eiffel Tower, and various museums can add up. Expect to spend approximately $100 to $200 on these.\n",
      "\n",
      "5. **Miscellaneous**: Additional expenses like transportation, souvenirs, and other activities can total around $100 to $200 per day, adding another $500 to $1,000 to the budget.\n",
      "\n",
      "In total, a 5-day trip to Paris can range from approximately $3,150 to $4,000 per person, excluding the cost of flights. This budget assumes a higher-end experience with quality dining and a stay in a central, 5-star hotel. For a more detailed and personalized plan, attempting the search again later or using a different service might be necessary.\n"
     ]
    }
   ],
   "source": [
    "\n",
    "# Example Usage\n",
    "destination = \"Paris\"\n",
    "days = 5\n",
    "trip_plan = plan_trip(destination, days)\n",
    "print(trip_plan)\n"
   ]
  },
  {
   "cell_type": "markdown",
   "metadata": {},
   "source": [
    "\n",
    "### **📝 How This Works**\n",
    "1. **Each agent searches the web** using Serper API for:\n",
    "   - Flights ✈️  \n",
    "   - Hotels 🏨  \n",
    "   - Food 🍽️  \n",
    "   - Attractions 🗺️  \n",
    "   - Weather 🌤️  \n",
    "   - Budget 💰  \n",
    "\n",
    "2. **The results are fed to Gemini LLM**, which organizes them into a structured itinerary.\n",
    "\n",
    "3. **Outputs a formatted day-by-day plan** (if the trip spans multiple days).\n",
    "\n",
    "---\n"
   ]
  },
  {
   "cell_type": "code",
   "execution_count": null,
   "metadata": {},
   "outputs": [],
   "source": []
  },
  {
   "cell_type": "code",
   "execution_count": null,
   "metadata": {},
   "outputs": [],
   "source": []
  },
  {
   "cell_type": "code",
   "execution_count": null,
   "metadata": {},
   "outputs": [],
   "source": []
  },
  {
   "cell_type": "code",
   "execution_count": null,
   "metadata": {},
   "outputs": [],
   "source": []
  }
 ],
 "metadata": {
  "kernelspec": {
   "display_name": "Python 3",
   "language": "python",
   "name": "python3"
  },
  "language_info": {
   "codemirror_mode": {
    "name": "ipython",
    "version": 3
   },
   "file_extension": ".py",
   "mimetype": "text/x-python",
   "name": "python",
   "nbconvert_exporter": "python",
   "pygments_lexer": "ipython3",
   "version": "3.12.6"
  }
 },
 "nbformat": 4,
 "nbformat_minor": 2
}
